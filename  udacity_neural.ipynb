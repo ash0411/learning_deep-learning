{
 "cells": [
  {
   "cell_type": "code",
   "execution_count": 1,
   "metadata": {},
   "outputs": [],
   "source": [
    "import numpy as np"
   ]
  },
  {
   "cell_type": "code",
   "execution_count": 2,
   "metadata": {},
   "outputs": [],
   "source": [
    "# softmax function (gives probability for both positive and negative numbers for a set of numbers)\n",
    "def softmax(L):\n",
    "    exp = np.exp(L)\n",
    "    sumexp = sum(exp)\n",
    "    result = []\n",
    "    for i in exp:\n",
    "        temp = (i*1.0)/(sumexp)\n",
    "        result.append(temp)\n",
    "    return result"
   ]
  },
  {
   "cell_type": "code",
   "execution_count": 5,
   "metadata": {},
   "outputs": [
    {
     "data": {
      "text/plain": [
       "[0.03168492079612427,\n",
       " 0.0861285444362687,\n",
       " 0.23412165725273662,\n",
       " 0.6364086465588308,\n",
       " 0.011656230956039607]"
      ]
     },
     "execution_count": 5,
     "metadata": {},
     "output_type": "execute_result"
    }
   ],
   "source": [
    "softmax([1,2,3,4,0])"
   ]
  },
  {
   "cell_type": "code",
   "execution_count": 6,
   "metadata": {},
   "outputs": [
    {
     "data": {
      "text/plain": [
       "[0.03467109143547885,\n",
       " 0.012754781742087938,\n",
       " 0.25618663962790716,\n",
       " 0.696387487194526]"
      ]
     },
     "execution_count": 6,
     "metadata": {},
     "output_type": "execute_result"
    }
   ],
   "source": [
    "softmax([-1,-2,1,2])"
   ]
  },
  {
   "cell_type": "code",
   "execution_count": 7,
   "metadata": {},
   "outputs": [],
   "source": [
    "# a good model gives us a low cross entropy and the cross entropy is given by negative of log function"
   ]
  },
  {
   "cell_type": "code",
   "execution_count": 8,
   "metadata": {},
   "outputs": [],
   "source": [
    "# you can consider the log as errors and low cross entropy means low errors"
   ]
  },
  {
   "cell_type": "code",
   "execution_count": 11,
   "metadata": {},
   "outputs": [],
   "source": [
    "# cross entropy function\n",
    "def cross_entropy(Y,P):\n",
    "    # P is the list of probabilities\n",
    "    # Y is the outcome\n",
    "    Y = np.float_(Y)\n",
    "    P = np.float_(P)\n",
    "    entropy = np.sum(Y*np.log(P)+(1-Y)*np.log(1-P))\n",
    "    return entropy"
   ]
  },
  {
   "cell_type": "code",
   "execution_count": 13,
   "metadata": {},
   "outputs": [
    {
     "data": {
      "text/plain": [
       "-4.219907785197447"
      ]
     },
     "execution_count": 13,
     "metadata": {},
     "output_type": "execute_result"
    }
   ],
   "source": [
    "cross_entropy([1,0,0,1],[0.3,0.3,0.3,0.1])\n",
    "# the smallere the entropy the better the prediction"
   ]
  },
  {
   "cell_type": "code",
   "execution_count": null,
   "metadata": {},
   "outputs": [],
   "source": [
    "# if you have 2 classes you have to run 2 loops"
   ]
  }
 ],
 "metadata": {
  "kernelspec": {
   "display_name": "Python 3",
   "language": "python",
   "name": "python3"
  },
  "language_info": {
   "codemirror_mode": {
    "name": "ipython",
    "version": 3
   },
   "file_extension": ".py",
   "mimetype": "text/x-python",
   "name": "python",
   "nbconvert_exporter": "python",
   "pygments_lexer": "ipython3",
   "version": "3.6.9"
  }
 },
 "nbformat": 4,
 "nbformat_minor": 4
}
